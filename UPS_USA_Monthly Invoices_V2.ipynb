{
 "cells": [
  {
   "cell_type": "code",
   "execution_count": 1,
   "metadata": {},
   "outputs": [],
   "source": [
    "import pandas as pd\n",
    "import datetime as dt\n",
    "pd.options.display.float_format = \"{:,.2f}\".format\n",
    "\n",
    "import numpy as np\n",
    "\n",
    "import warnings\n",
    "warnings.filterwarnings('ignore')"
   ]
  },
  {
   "cell_type": "markdown",
   "metadata": {},
   "source": [
    "IMPORT DATA, CLEAN & CONDENSE"
   ]
  },
  {
   "cell_type": "code",
   "execution_count": 2,
   "metadata": {},
   "outputs": [
    {
     "name": "stdout",
     "output_type": "stream",
     "text": [
      "enter invoice date: June 2021\n",
      "R1 June 2021\n",
      "R1 June 2021.xlsx\n"
     ]
    }
   ],
   "source": [
    "#define file names\n",
    "\n",
    "invoice_date = input('enter invoice date: ')\n",
    "date_account = 'R1' + ' ' + invoice_date\n",
    "data = 'data'\n",
    "condense = 'condense'\n",
    "merge = 'merge'\n",
    "lineitem = 'lineitem'\n",
    "file_type = '.xlsx'\n",
    "print(date_account)\n",
    "print(date_account+file_type)"
   ]
  },
  {
   "cell_type": "code",
   "execution_count": 3,
   "metadata": {},
   "outputs": [
    {
     "name": "stdout",
     "output_type": "stream",
     "text": [
      "R1 June 2021 data.xlsx\n",
      "R1 June 2021 condense.xlsx\n",
      "R1 June 2021 merge.xlsx\n",
      "R1 June 2021 lineitem.xlsx\n"
     ]
    }
   ],
   "source": [
    "#cont define file names\n",
    "\n",
    "x = date_account + ' ' + data + file_type\n",
    "y = date_account + ' ' + condense + file_type\n",
    "z = date_account + ' ' + merge + file_type\n",
    "w = date_account + ' ' + lineitem + file_type\n",
    "\n",
    "print(x +'\\n'+ y +'\\n'+ z +'\\n' + w)"
   ]
  },
  {
   "cell_type": "code",
   "execution_count": 4,
   "metadata": {},
   "outputs": [],
   "source": [
    "#import raw data, create new DF with only specific columns needed for analysis\n",
    "\n",
    "df = pd.read_excel(x, header=None)\n",
    "df2 = df.iloc[:, [2,4,5,10,11,13,16,22,45,52,75,76,78,79,80]]"
   ]
  },
  {
   "cell_type": "code",
   "execution_count": 5,
   "metadata": {},
   "outputs": [
    {
     "data": {
      "text/plain": [
       "Int64Index([2, 4, 5, 10, 11, 13, 16, 22, 45, 52, 75, 76, 78, 79, 80], dtype='int64')"
      ]
     },
     "execution_count": 5,
     "metadata": {},
     "output_type": "execute_result"
    }
   ],
   "source": [
    "df2.columns"
   ]
  },
  {
   "cell_type": "code",
   "execution_count": 6,
   "metadata": {},
   "outputs": [],
   "source": [
    "#insert new column that will hold the sales order no from ref_1 column\n",
    "df2.insert(6, 15, 0, True)"
   ]
  },
  {
   "cell_type": "code",
   "execution_count": 7,
   "metadata": {},
   "outputs": [],
   "source": [
    "#create function to pull off sales order data\n",
    "\n",
    "right = df2.loc[:, 16].str[1:7]"
   ]
  },
  {
   "cell_type": "code",
   "execution_count": 8,
   "metadata": {},
   "outputs": [],
   "source": [
    "#set new column equal to the right 6 from ref_1\n",
    "\n",
    "df2.loc[:, 15] = right"
   ]
  },
  {
   "cell_type": "code",
   "execution_count": 9,
   "metadata": {},
   "outputs": [],
   "source": [
    "#names headers for the columns\n",
    "\n",
    "df2.columns = [\"account\", \"invoice_date\", \"invoice_no\", \"invoice_total\", \"ship_date\", \"tracking_no\",'sales_order_no',\"ref_1\", \"ref_2\", \"charge_type\", \"final_charge\",\"receiving_party\", \"receiving_address\", \"city\", \"state\", \"zip\" ]"
   ]
  },
  {
   "cell_type": "code",
   "execution_count": 58,
   "metadata": {},
   "outputs": [
    {
     "data": {
      "text/html": [
       "<div>\n",
       "<style scoped>\n",
       "    .dataframe tbody tr th:only-of-type {\n",
       "        vertical-align: middle;\n",
       "    }\n",
       "\n",
       "    .dataframe tbody tr th {\n",
       "        vertical-align: top;\n",
       "    }\n",
       "\n",
       "    .dataframe thead th {\n",
       "        text-align: right;\n",
       "    }\n",
       "</style>\n",
       "<table border=\"1\" class=\"dataframe\">\n",
       "  <thead>\n",
       "    <tr style=\"text-align: right;\">\n",
       "      <th></th>\n",
       "      <th>account</th>\n",
       "      <th>invoice_date</th>\n",
       "      <th>invoice_no</th>\n",
       "      <th>invoice_total</th>\n",
       "      <th>ship_date</th>\n",
       "      <th>tracking_no</th>\n",
       "      <th>sales_order_no</th>\n",
       "      <th>card_code</th>\n",
       "      <th>ref_1</th>\n",
       "      <th>ref_2</th>\n",
       "      <th>charge_type</th>\n",
       "      <th>final_charge</th>\n",
       "      <th>receiving_party</th>\n",
       "      <th>receiving_address</th>\n",
       "      <th>city</th>\n",
       "      <th>state</th>\n",
       "      <th>zip</th>\n",
       "    </tr>\n",
       "  </thead>\n",
       "  <tbody>\n",
       "    <tr>\n",
       "      <th>1</th>\n",
       "      <td>00009A56R1</td>\n",
       "      <td>2021-06-07</td>\n",
       "      <td>1482804409</td>\n",
       "      <td>53.04</td>\n",
       "      <td>2021-06-06</td>\n",
       "      <td>9A56R1JTNDR</td>\n",
       "      <td>0</td>\n",
       "      <td></td>\n",
       "      <td>NaN</td>\n",
       "      <td>NaN</td>\n",
       "      <td>Disbursement Fee</td>\n",
       "      <td>4.73</td>\n",
       "      <td>HUMBI</td>\n",
       "      <td>THE EA OF QINGPINGSHAN RD</td>\n",
       "      <td>MINGUANG</td>\n",
       "      <td>NaN</td>\n",
       "      <td>239400</td>\n",
       "    </tr>\n",
       "    <tr>\n",
       "      <th>2</th>\n",
       "      <td>00009A56R1</td>\n",
       "      <td>2021-06-07</td>\n",
       "      <td>1482804409</td>\n",
       "      <td>53.04</td>\n",
       "      <td>2021-06-06</td>\n",
       "      <td>9A56R1JTNDR</td>\n",
       "      <td>0</td>\n",
       "      <td></td>\n",
       "      <td>NaN</td>\n",
       "      <td>NaN</td>\n",
       "      <td>Value Added Tax</td>\n",
       "      <td>48.31</td>\n",
       "      <td>HUMBI</td>\n",
       "      <td>THE EA OF QINGPINGSHAN RD</td>\n",
       "      <td>MINGUANG</td>\n",
       "      <td>NaN</td>\n",
       "      <td>239400</td>\n",
       "    </tr>\n",
       "  </tbody>\n",
       "</table>\n",
       "</div>"
      ],
      "text/plain": [
       "      account invoice_date  invoice_no  invoice_total   ship_date  \\\n",
       "1  00009A56R1   2021-06-07  1482804409          53.04  2021-06-06   \n",
       "2  00009A56R1   2021-06-07  1482804409          53.04  2021-06-06   \n",
       "\n",
       "   tracking_no sales_order_no card_code ref_1 ref_2       charge_type  \\\n",
       "1  9A56R1JTNDR              0             NaN   NaN  Disbursement Fee   \n",
       "2  9A56R1JTNDR              0             NaN   NaN   Value Added Tax   \n",
       "\n",
       "   final_charge receiving_party          receiving_address      city state  \\\n",
       "1          4.73           HUMBI  THE EA OF QINGPINGSHAN RD  MINGUANG   NaN   \n",
       "2         48.31           HUMBI  THE EA OF QINGPINGSHAN RD  MINGUANG   NaN   \n",
       "\n",
       "      zip  \n",
       "1  239400  \n",
       "2  239400  "
      ]
     },
     "execution_count": 58,
     "metadata": {},
     "output_type": "execute_result"
    }
   ],
   "source": [
    "df2.dropna(subset =['sales_order_no']).head(2)"
   ]
  },
  {
   "cell_type": "code",
   "execution_count": 59,
   "metadata": {},
   "outputs": [],
   "source": [
    "for i, row in df2.iterrows():\n",
    "    df2['sales_order_no'] = df2['sales_order_no'].apply(pd.to_numeric, errors = 'coerce')"
   ]
  },
  {
   "cell_type": "code",
   "execution_count": 60,
   "metadata": {},
   "outputs": [
    {
     "name": "stdout",
     "output_type": "stream",
     "text": [
      "float64\n"
     ]
    }
   ],
   "source": [
    "print(df2['sales_order_no'].dtypes)\n"
   ]
  },
  {
   "cell_type": "code",
   "execution_count": 16,
   "metadata": {},
   "outputs": [],
   "source": [
    "#inserts an empty column for cardCode\n",
    "\n",
    "df2.insert(7, 'card_code', '')"
   ]
  },
  {
   "cell_type": "code",
   "execution_count": 17,
   "metadata": {},
   "outputs": [],
   "source": [
    "#converts the column invoice_date to a datetime object, then a date object\n",
    "\n",
    "df2['invoice_date'] = pd.to_datetime(df2['invoice_date'], errors = 'coerce')\n",
    "df2['invoice_date'] = df2['invoice_date'].dt.date\n",
    "\n",
    "#converts the column \"ship date\" to a datetime object, then a date object\n",
    "\n",
    "df2['ship_date'] = pd.to_datetime(df2['ship_date'], errors = 'coerce')\n",
    "df2['ship_date'] = df2['ship_date'].dt.date\n",
    "  "
   ]
  },
  {
   "cell_type": "code",
   "execution_count": 18,
   "metadata": {},
   "outputs": [],
   "source": [
    "#drops the second row (index)\n",
    "\n",
    "df2 = df2.drop(df2.index[0])"
   ]
  },
  {
   "cell_type": "code",
   "execution_count": 19,
   "metadata": {},
   "outputs": [
    {
     "data": {
      "text/plain": [
       "account               object\n",
       "invoice_date          object\n",
       "invoice_no            object\n",
       "invoice_total        float64\n",
       "ship_date             object\n",
       "tracking_no           object\n",
       "sales_order_no        object\n",
       "card_code             object\n",
       "ref_1                 object\n",
       "ref_2                 object\n",
       "charge_type           object\n",
       "final_charge         float64\n",
       "receiving_party       object\n",
       "receiving_address     object\n",
       "city                  object\n",
       "state                 object\n",
       "zip                   object\n",
       "dtype: object"
      ]
     },
     "execution_count": 19,
     "metadata": {},
     "output_type": "execute_result"
    }
   ],
   "source": [
    "#check data types\n",
    "\n",
    "df2.dtypes"
   ]
  },
  {
   "cell_type": "code",
   "execution_count": 20,
   "metadata": {},
   "outputs": [],
   "source": [
    "#saves new dataframe \n",
    "\n",
    "df2.to_excel(y, index = False)"
   ]
  },
  {
   "cell_type": "markdown",
   "metadata": {},
   "source": [
    "MERGE DATA FRAMES (UPS RAW DATA WITH ORDR AND LINE ITEM TABLES)"
   ]
  },
  {
   "cell_type": "code",
   "execution_count": 48,
   "metadata": {},
   "outputs": [],
   "source": [
    "#pull in ORDR sheet\n",
    "\n",
    "df_ordr = pd.read_excel('ORDR for UPS analysis US.xlsx', sheet_name = 'ORDR_only')"
   ]
  },
  {
   "cell_type": "code",
   "execution_count": 49,
   "metadata": {},
   "outputs": [
    {
     "data": {
      "text/plain": [
       "DocEntry                   int64\n",
       "sales_order_no             int64\n",
       "DocDate           datetime64[ns]\n",
       "CardCode                  object\n",
       "CardName                  object\n",
       "NumAtCard                 object\n",
       "dtype: object"
      ]
     },
     "execution_count": 49,
     "metadata": {},
     "output_type": "execute_result"
    }
   ],
   "source": [
    "df_ordr.dtypes"
   ]
  },
  {
   "cell_type": "code",
   "execution_count": 22,
   "metadata": {},
   "outputs": [],
   "source": [
    "df_ordr = df_ordr.astype({'sales_order_no': 'object'})"
   ]
  },
  {
   "cell_type": "code",
   "execution_count": 50,
   "metadata": {},
   "outputs": [
    {
     "data": {
      "text/plain": [
       "DocEntry                   int64\n",
       "sales_order_no             int64\n",
       "DocDate           datetime64[ns]\n",
       "CardCode                  object\n",
       "CardName                  object\n",
       "NumAtCard                 object\n",
       "dtype: object"
      ]
     },
     "execution_count": 50,
     "metadata": {},
     "output_type": "execute_result"
    }
   ],
   "source": [
    "df_ordr.dtypes"
   ]
  },
  {
   "cell_type": "code",
   "execution_count": 51,
   "metadata": {},
   "outputs": [
    {
     "data": {
      "text/plain": [
       "account               object\n",
       "invoice_date          object\n",
       "invoice_no            object\n",
       "invoice_total        float64\n",
       "ship_date             object\n",
       "tracking_no           object\n",
       "sales_order_no        object\n",
       "card_code             object\n",
       "ref_1                 object\n",
       "ref_2                 object\n",
       "charge_type           object\n",
       "final_charge         float64\n",
       "receiving_party       object\n",
       "receiving_address     object\n",
       "city                  object\n",
       "state                 object\n",
       "zip                   object\n",
       "dtype: object"
      ]
     },
     "execution_count": 51,
     "metadata": {},
     "output_type": "execute_result"
    }
   ],
   "source": [
    "df2.dtypes"
   ]
  },
  {
   "cell_type": "code",
   "execution_count": 54,
   "metadata": {},
   "outputs": [],
   "source": [
    "#pull in ORDR line items sheet \n",
    "# df_lineitems = pd.read_excel('ORDR for UPS analysis US.xlsx', sheet_name = 'ORDR_line_items')"
   ]
  },
  {
   "cell_type": "code",
   "execution_count": 65,
   "metadata": {},
   "outputs": [],
   "source": [
    "#merge ORDR and UPS dataframes\n",
    "\n",
    "df_merge = pd.merge(df2, df_ordr, on = ['sales_order_no'], how = 'left')"
   ]
  },
  {
   "cell_type": "code",
   "execution_count": 68,
   "metadata": {},
   "outputs": [],
   "source": [
    "#push the new DF to excel file\n",
    "\n",
    "df_merge.to_excel(z, index = False)"
   ]
  },
  {
   "cell_type": "markdown",
   "metadata": {},
   "source": [
    "DIONO INVOICE ANALYSIS"
   ]
  },
  {
   "cell_type": "code",
   "execution_count": 69,
   "metadata": {},
   "outputs": [],
   "source": [
    "#import OINV data frame\n",
    "\n",
    "df_sales = pd.read_excel('ORDR for UPS analysis US.xlsx', sheet_name = 'OINV')"
   ]
  },
  {
   "cell_type": "code",
   "execution_count": 70,
   "metadata": {},
   "outputs": [
    {
     "name": "stdout",
     "output_type": "stream",
     "text": [
      "total revenue US sales\n",
      "3,529,732.81\n"
     ]
    }
   ],
   "source": [
    "#analysis of revenue data\n",
    "\n",
    "revenue = df_sales.total_sales.sum()\n",
    "print('total revenue US sales')\n",
    "print(format(revenue, ',.2f'))"
   ]
  },
  {
   "cell_type": "code",
   "execution_count": 71,
   "metadata": {},
   "outputs": [
    {
     "data": {
      "text/html": [
       "<div>\n",
       "<style scoped>\n",
       "    .dataframe tbody tr th:only-of-type {\n",
       "        vertical-align: middle;\n",
       "    }\n",
       "\n",
       "    .dataframe tbody tr th {\n",
       "        vertical-align: top;\n",
       "    }\n",
       "\n",
       "    .dataframe thead th {\n",
       "        text-align: right;\n",
       "    }\n",
       "</style>\n",
       "<table border=\"1\" class=\"dataframe\">\n",
       "  <thead>\n",
       "    <tr style=\"text-align: right;\">\n",
       "      <th></th>\n",
       "      <th></th>\n",
       "      <th>total_sales</th>\n",
       "    </tr>\n",
       "    <tr>\n",
       "      <th>CardCode</th>\n",
       "      <th>CardName</th>\n",
       "      <th></th>\n",
       "    </tr>\n",
       "  </thead>\n",
       "  <tbody>\n",
       "    <tr>\n",
       "      <th>ALBBAB</th>\n",
       "      <th>Albee Baby Carriage     (BRIXY)</th>\n",
       "      <td>660.00</td>\n",
       "    </tr>\n",
       "    <tr>\n",
       "      <th>ALISS</th>\n",
       "      <th>Foreign Imports</th>\n",
       "      <td>22,131.00</td>\n",
       "    </tr>\n",
       "    <tr>\n",
       "      <th>AMAZON</th>\n",
       "      <th>Amazon</th>\n",
       "      <td>1,966,282.37</td>\n",
       "    </tr>\n",
       "    <tr>\n",
       "      <th>AMAZONDF</th>\n",
       "      <th>Amazon DF</th>\n",
       "      <td>110,576.03</td>\n",
       "    </tr>\n",
       "    <tr>\n",
       "      <th>ATOP</th>\n",
       "      <th>Atop Company Ltd</th>\n",
       "      <td>9,795.50</td>\n",
       "    </tr>\n",
       "  </tbody>\n",
       "</table>\n",
       "</div>"
      ],
      "text/plain": [
       "                                          total_sales\n",
       "CardCode CardName                                    \n",
       "ALBBAB   Albee Baby Carriage     (BRIXY)       660.00\n",
       "ALISS    Foreign Imports                    22,131.00\n",
       "AMAZON   Amazon                          1,966,282.37\n",
       "AMAZONDF Amazon DF                         110,576.03\n",
       "ATOP     Atop Company Ltd                    9,795.50"
      ]
     },
     "execution_count": 71,
     "metadata": {},
     "output_type": "execute_result"
    }
   ],
   "source": [
    "df_sales.groupby(['CardCode','CardName'])[['total_sales']].sum().head()"
   ]
  },
  {
   "cell_type": "code",
   "execution_count": 72,
   "metadata": {},
   "outputs": [],
   "source": [
    "code_grp = df_sales.groupby(['CardCode'])"
   ]
  },
  {
   "cell_type": "code",
   "execution_count": 73,
   "metadata": {},
   "outputs": [],
   "source": [
    "df_dioret_sales = code_grp.get_group('DIORET')"
   ]
  },
  {
   "cell_type": "code",
   "execution_count": 74,
   "metadata": {},
   "outputs": [
    {
     "name": "stdout",
     "output_type": "stream",
     "text": [
      "total revenue DIORET (online sales):\n",
      "485,483.73\n"
     ]
    }
   ],
   "source": [
    "dioret_sales = df_dioret_sales['total_sales'].sum()\n",
    "print('total revenue DIORET (online sales):')\n",
    "print(format(dioret_sales, ',.2f'))"
   ]
  },
  {
   "cell_type": "code",
   "execution_count": 75,
   "metadata": {},
   "outputs": [
    {
     "name": "stdout",
     "output_type": "stream",
     "text": [
      "total number of orders for DIORET (online sales):\n",
      "2,575\n"
     ]
    }
   ],
   "source": [
    "dioret_count = df_dioret_sales['total_sales'].count()\n",
    "print('total number of orders for DIORET (online sales):')\n",
    "print(format(dioret_count, ','))"
   ]
  },
  {
   "cell_type": "code",
   "execution_count": 76,
   "metadata": {},
   "outputs": [
    {
     "name": "stdout",
     "output_type": "stream",
     "text": [
      "average price per order for DIORET (online sales):\n",
      "188.54\n"
     ]
    }
   ],
   "source": [
    "#this needs to be adjusted to sumif on DocNum by total_sales. right now it is count line items not sales orders\n",
    "\n",
    "print('average price per order for DIORET (online sales):')\n",
    "print(format(dioret_sales/dioret_count, '.2f'))"
   ]
  },
  {
   "cell_type": "markdown",
   "metadata": {},
   "source": [
    "UPS DATA  ANALYSIS"
   ]
  },
  {
   "cell_type": "code",
   "execution_count": 77,
   "metadata": {},
   "outputs": [],
   "source": [
    "#drop the rows where final charge = 0\n",
    "\n",
    "df_merge = df_merge[df_merge['final_charge'] != 0]"
   ]
  },
  {
   "cell_type": "code",
   "execution_count": 78,
   "metadata": {},
   "outputs": [
    {
     "name": "stdout",
     "output_type": "stream",
     "text": [
      "dataframe shape:  (9418, 22)\n",
      "unique tracking nos:  2792\n"
     ]
    }
   ],
   "source": [
    "#print the shape of df_merge and count unique tracking numbers\n",
    " \n",
    "tracking_unique_total = df_merge.tracking_no.value_counts() \n",
    "print('dataframe shape: ' , df_merge.shape)\n",
    "print('unique tracking nos: ', tracking_unique_total.count())"
   ]
  },
  {
   "cell_type": "code",
   "execution_count": 79,
   "metadata": {
    "scrolled": true
   },
   "outputs": [
    {
     "name": "stdout",
     "output_type": "stream",
     "text": [
      "average charge overall:  5.81\n",
      "total charges:  54,696.46\n",
      "total packages:  2,792\n",
      "average cost per package:  19.59\n",
      "Month revenue:  3,529,732.81\n",
      "UPS freight as a percent of revenue:  1.55%\n"
     ]
    }
   ],
   "source": [
    "#find the new mean without the null rows. \n",
    "#aka take sum final charge divide by # of unique tracking ==> cost per carton\n",
    "\n",
    "print('average charge overall: ', format(df_merge.final_charge.mean(), '.2f'))\n",
    "print('total charges: ', format(df_merge.final_charge.sum(), ',.2f'))\n",
    "print('total packages: ', format(tracking_unique_total.count(), ','))\n",
    "print('average cost per package: ', format(df_merge.final_charge.sum()/tracking_unique_total.count(), '.2f'))\n",
    "print('Month revenue: ', format(revenue, ',.2f'))\n",
    "print('UPS freight as a percent of revenue: ', format(df_merge.final_charge.sum()/revenue, '.2%' ))"
   ]
  },
  {
   "cell_type": "markdown",
   "metadata": {},
   "source": [
    "UPS INVOICE SUMMARY"
   ]
  },
  {
   "cell_type": "code",
   "execution_count": 80,
   "metadata": {},
   "outputs": [
    {
     "name": "stdout",
     "output_type": "stream",
     "text": [
      "total charges:  54,696.46\n",
      "total packages:  2,792\n",
      "average cost per package:  19.59\n"
     ]
    }
   ],
   "source": [
    "#sum final charge by invoice number and date\n",
    "print('total charges: ', format(df_merge.final_charge.sum(), ',.2f'))\n",
    "print('total packages: ', format(tracking_unique_total.count(), ','))\n",
    "print('average cost per package: ', format(df_merge.final_charge.sum()/tracking_unique_total.count(), '.2f'))\n"
   ]
  },
  {
   "cell_type": "code",
   "execution_count": 81,
   "metadata": {},
   "outputs": [
    {
     "data": {
      "text/plain": [
       "0        NaN\n",
       "1        NaN\n",
       "2        NaN\n",
       "3        NaN\n",
       "4        NaN\n",
       "5        NaN\n",
       "7        NaN\n",
       "8        NaN\n",
       "9     DIORET\n",
       "10    DIORET\n",
       "Name: CardCode, dtype: object"
      ]
     },
     "execution_count": 81,
     "metadata": {},
     "output_type": "execute_result"
    }
   ],
   "source": [
    "cardcode = df_merge[\"CardCode\"]\n",
    "cardcode.head(10)"
   ]
  },
  {
   "cell_type": "code",
   "execution_count": 82,
   "metadata": {},
   "outputs": [
    {
     "data": {
      "text/plain": [
       "<pandas.core.groupby.generic.DataFrameGroupBy object at 0x0000028A73B07208>"
      ]
     },
     "execution_count": 82,
     "metadata": {},
     "output_type": "execute_result"
    }
   ],
   "source": [
    "#dataframe groupby object\n",
    "df_merge.groupby(['CardCode'])\n"
   ]
  },
  {
   "cell_type": "code",
   "execution_count": 83,
   "metadata": {},
   "outputs": [],
   "source": [
    "#dataframe groupby object\n",
    "code_grp = df_merge.groupby(['CardCode'])\n",
    "\n",
    "#create dataframe of the code group = DIORET\n",
    "df_dioret = code_grp.get_group('DIORET')"
   ]
  },
  {
   "cell_type": "code",
   "execution_count": 84,
   "metadata": {},
   "outputs": [
    {
     "name": "stdout",
     "output_type": "stream",
     "text": [
      "invoice data\n",
      "                              final_charge\n",
      "invoice_date invoice_no                   \n",
      "2021-06-05   0000009A56R1231     15,203.66\n",
      "2021-06-07   1482804409              53.04\n",
      "2021-06-12   0000009A56R1241     20,882.24\n",
      "2021-06-19   0000009A56R1251      5,762.64\n",
      "2021-06-26   0000009A56R1261     12,794.88\n",
      "final_charge   54,696.46\n",
      "dtype: float64\n",
      "online sales shipping charges total:  39949.94\n"
     ]
    }
   ],
   "source": [
    "sum_finalcharge = df_merge[['final_charge']].sum()\n",
    "invoice_by_date = df_merge.groupby(['invoice_date', 'invoice_no'])[['final_charge']].sum()\n",
    "dioret_total_sum = df_dioret['final_charge'].sum()\n",
    "\n",
    "print('invoice data')\n",
    "print(invoice_by_date)\n",
    "print(sum_finalcharge)\n",
    "print(\"online sales shipping charges total: \" , dioret_total_sum)"
   ]
  },
  {
   "cell_type": "code",
   "execution_count": 85,
   "metadata": {},
   "outputs": [],
   "source": [
    "# df_merge['CardCode'].value_counts()"
   ]
  },
  {
   "cell_type": "markdown",
   "metadata": {},
   "source": [
    "DIONO ONLINE SALES FREIGHT SUMMARY"
   ]
  },
  {
   "cell_type": "code",
   "execution_count": 86,
   "metadata": {},
   "outputs": [
    {
     "name": "stdout",
     "output_type": "stream",
     "text": [
      "total DIORET tracking no: 2,106\n",
      "total DIORET sum final charge: 39,949.94\n",
      "average cost DIORET shipment:  18.97\n"
     ]
    }
   ],
   "source": [
    "#analysis on the DIORET dataframe\n",
    "\n",
    "dioret_total_tracking = df_dioret['tracking_no'].value_counts().count()\n",
    "dioret_total_sum = df_dioret['final_charge'].sum()\n",
    "print('total DIORET tracking no:', format(dioret_total_tracking, ','))\n",
    "print('total DIORET sum final charge:', format(dioret_total_sum, ',.2f'))\n",
    "print('average cost DIORET shipment: ', format(dioret_total_sum/dioret_total_tracking, '.2f'))"
   ]
  },
  {
   "cell_type": "code",
   "execution_count": 87,
   "metadata": {},
   "outputs": [
    {
     "name": "stdout",
     "output_type": "stream",
     "text": [
      "UPS freight charges as a percent of sales- DIORET\n",
      "total UPS charges for DIORET:  39,949.94\n",
      "total DIORET revenue:  485,483.73\n",
      "8.23%\n"
     ]
    }
   ],
   "source": [
    "print('UPS freight charges as a percent of sales- DIORET')\n",
    "print('total UPS charges for DIORET: ', format(dioret_total_sum, ','))\n",
    "print('total DIORET revenue: ', format(dioret_sales, ','))\n",
    "print(format(dioret_total_sum/dioret_sales, '.2%'))\n"
   ]
  },
  {
   "cell_type": "code",
   "execution_count": 88,
   "metadata": {},
   "outputs": [
    {
     "name": "stdout",
     "output_type": "stream",
     "text": [
      "SUM OF CHARGES BY CUSTOMER\n",
      "                                                    final_charge\n",
      "CardCode     CardName                                           \n",
      "AMAZONDF     Amazon DF                                    279.72\n",
      "BABGRA       Baby Grand                (BRIXY)            174.66\n",
      "BRIBAB       Bringing Up Baby                               8.92\n",
      "CALSPANC     Calspan Corp                                  21.22\n",
      "CAMB01       Cambria Recall 2020 01                     1,011.60\n",
      "CHEBAB       CHEEKY BABY                                   68.79\n",
      "CHIALA       CHILDREN'S HOSPITAL OF ALABAMA                78.28\n",
      "COOSER-DS    Coordinated Claim Services drop ship          28.17\n",
      "CPST         CPST                                         127.89\n",
      "DIORET       B2C Credit Card                           39,949.94\n",
      "FACBOK       Facebook                                      23.05\n",
      "IBIGRO       IBIYA GROUP                                   76.71\n",
      "JOHCHI       John Hopkins All Childrens                    54.86\n",
      "KIDCAR       Kid Car NY                                     8.92\n",
      "KIDTEC       Kidmoto Technologies LLC                     203.08\n",
      "MAREBAY      Ebay Market                                  174.57\n",
      "MARWAL       Walmart Market Place                       6,060.60\n",
      "MEGBAB       Mega Babies                                  163.68\n",
      "MEGBAB-DS    Mega Babies Drop Ship                         40.51\n",
      "MERDIS       Mercury Distributing Dba Child Source        756.80\n",
      "MINJAK       Mini Jake Inc                                 38.36\n",
      "MODNAT       Modern Natural Baby     (BRIXY)               20.72\n",
      "NATOUT       Nature Baby Outfitter                         24.59\n",
      "NESMAT       Nest Maternity                                86.69\n",
      "NORDST       Nordstrom                                     65.42\n",
      "PREALT       Prevention Alternative                        67.77\n",
      "REPLACE      Replacement                                1,370.25\n",
      "RETAIL-OTHER B2C Phone                                    447.55\n",
      "SAMPLE       Sample                                        89.52\n",
      "SPRSTE       Sprout By Steve's Ace Home & Garden          106.74\n",
      "SWABAB       Swanky Babies           (BRIXY)               11.34\n"
     ]
    }
   ],
   "source": [
    "#sums final charge by customer\n",
    "print('SUM OF CHARGES BY CUSTOMER')\n",
    "print(df_merge.groupby(['CardCode','CardName'])[['final_charge']].sum())"
   ]
  },
  {
   "cell_type": "markdown",
   "metadata": {},
   "source": [
    "MERGE RDR1 LINE ITEM DETAIL WITH UPS"
   ]
  },
  {
   "cell_type": "code",
   "execution_count": 89,
   "metadata": {},
   "outputs": [],
   "source": [
    "#merge line item table with UPS data. drop NA value rows\n",
    "\n",
    "df_detail = pd.merge(df_lineitems, df2, on = ['sales_order_no'], how = 'left')\n",
    "df_detail = df_detail.dropna()\n",
    "# df_detail.head(2)"
   ]
  },
  {
   "cell_type": "code",
   "execution_count": 90,
   "metadata": {},
   "outputs": [],
   "source": [
    "#push line item merged table to excel doc\n",
    "df_detail.to_excel(w, index = False )"
   ]
  }
 ],
 "metadata": {
  "hide_input": true,
  "kernelspec": {
   "display_name": "Python 3",
   "language": "python",
   "name": "python3"
  },
  "language_info": {
   "codemirror_mode": {
    "name": "ipython",
    "version": 3
   },
   "file_extension": ".py",
   "mimetype": "text/x-python",
   "name": "python",
   "nbconvert_exporter": "python",
   "pygments_lexer": "ipython3",
   "version": "3.7.6"
  },
  "varInspector": {
   "cols": {
    "lenName": 16,
    "lenType": 16,
    "lenVar": 40
   },
   "kernels_config": {
    "python": {
     "delete_cmd_postfix": "",
     "delete_cmd_prefix": "del ",
     "library": "var_list.py",
     "varRefreshCmd": "print(var_dic_list())"
    },
    "r": {
     "delete_cmd_postfix": ") ",
     "delete_cmd_prefix": "rm(",
     "library": "var_list.r",
     "varRefreshCmd": "cat(var_dic_list()) "
    }
   },
   "types_to_exclude": [
    "module",
    "function",
    "builtin_function_or_method",
    "instance",
    "_Feature"
   ],
   "window_display": false
  }
 },
 "nbformat": 4,
 "nbformat_minor": 4
}
