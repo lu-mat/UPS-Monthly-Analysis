{
 "cells": [
  {
   "cell_type": "code",
   "execution_count": 1,
   "metadata": {},
   "outputs": [],
   "source": [
    "import pandas as pd\n",
    "# import numpy as np\n",
    "import datetime as dt\n",
    "pd.options.display.float_format = \"{:,.2f}\".format"
   ]
  },
  {
   "cell_type": "code",
   "execution_count": 2,
   "metadata": {},
   "outputs": [],
   "source": [
    "import warnings\n",
    "warnings.filterwarnings(\"ignore\")"
   ]
  },
  {
   "cell_type": "code",
   "execution_count": 3,
   "metadata": {},
   "outputs": [
    {
     "name": "stdout",
     "output_type": "stream",
     "text": [
      "enter invoice date: 07 03 21\n",
      "R1 07 03 21\n",
      "R1 07 03 21.xlsx\n"
     ]
    }
   ],
   "source": [
    "#define file names\n",
    "\n",
    "invoice_date = input('enter invoice date: ')\n",
    "date_account = 'R1' + ' ' + invoice_date\n",
    "data = 'data'\n",
    "condense = 'condense'\n",
    "merge = 'merge'\n",
    "lineitem = 'lineitem'\n",
    "file_type = '.xlsx'\n",
    "print(date_account)\n",
    "print(date_account+file_type)"
   ]
  },
  {
   "cell_type": "code",
   "execution_count": 4,
   "metadata": {},
   "outputs": [
    {
     "name": "stdout",
     "output_type": "stream",
     "text": [
      "R1 07 03 21 data.xlsx\n",
      "R1 07 03 21 condense.xlsx\n",
      "R1 07 03 21 merge.xlsx\n",
      "R1 07 03 21 lineitem.xlsx\n"
     ]
    }
   ],
   "source": [
    "#cont define file names\n",
    "\n",
    "x = date_account + ' ' + data + file_type\n",
    "y = date_account + ' ' + condense + file_type\n",
    "z = date_account + ' ' + merge + file_type\n",
    "w = date_account + ' ' + lineitem + file_type\n",
    "\n",
    "print(x +'\\n'+ y +'\\n'+ z +'\\n' + w)"
   ]
  },
  {
   "cell_type": "code",
   "execution_count": 5,
   "metadata": {},
   "outputs": [],
   "source": [
    "#imports the raw data, keeps only the columns needed for the analysis\n",
    "\n",
    "df = pd.read_excel(x, header=None)\n",
    "df2 = df.iloc[:, [2,4,5,10,11,13,16,22,45,52,75,76,78,79,80]]"
   ]
  },
  {
   "cell_type": "code",
   "execution_count": 6,
   "metadata": {},
   "outputs": [],
   "source": [
    "#names headers for the columns\n",
    "\n",
    "df2.columns = [\"account\", \"invoice_date\", \"invoice_no\", \"invoice_total\", \"ship_date\", \"tracking_no\", \"ref_1\", \"ref_2\", \"charge_type\", \"final_charge\",\"receiving_party\", \"receiving_address\", \"city\", \"state\", \"zip\" ]"
   ]
  },
  {
   "cell_type": "code",
   "execution_count": 7,
   "metadata": {},
   "outputs": [],
   "source": [
    "#inserts a column for the sales order number but with 0 in each row \n",
    "#inserts a column for the cardCode\n",
    "\n",
    "df2.insert(6, \"sales_order_no\", str(0))\n",
    "df2.insert(7, \"card_code\", '')"
   ]
  },
  {
   "cell_type": "code",
   "execution_count": 8,
   "metadata": {},
   "outputs": [],
   "source": [
    "#creates a new column called \"right\" which pulls off the sales order no from ref field. However need to put this in the\n",
    "#sales order column\n",
    "#itterates through each row and makes the column \"sales order no\" equal to the right 6 from the ref column so we have \n",
    "#SO number in separate column. \n",
    "\n",
    "right = df2['ref_1'].str[-6:]\n",
    "for i, row in df2.iterrows():\n",
    "    df2['sales_order_no'] = right"
   ]
  },
  {
   "cell_type": "code",
   "execution_count": 9,
   "metadata": {},
   "outputs": [],
   "source": [
    "#changes sales order no to numeric\n",
    "for i, row in df2.iterrows():\n",
    "    df2['sales_order_no'] = df2['sales_order_no'].apply(pd.to_numeric, errors = 'coerce')\n",
    "    \n",
    "#converts the column \"invoice date\" to a datetime object\n",
    "df2['invoice_date'] = pd.to_datetime(df2['invoice_date'], errors = 'coerce')\n",
    "\n",
    "#converts invoice date to a date object\n",
    "df2['invoice_date'] = df2['invoice_date'].dt.date\n",
    "\n",
    "#converts the column \"ship date\" to a datetime object\n",
    "df2['ship_date'] = pd.to_datetime(df2['ship_date'], errors = 'coerce')\n",
    "\n",
    "#converts ship date to a date object\n",
    "df2['ship_date'] = df2['ship_date'].dt.date\n",
    "  "
   ]
  },
  {
   "cell_type": "code",
   "execution_count": 10,
   "metadata": {},
   "outputs": [
    {
     "data": {
      "text/html": [
       "<div>\n",
       "<style scoped>\n",
       "    .dataframe tbody tr th:only-of-type {\n",
       "        vertical-align: middle;\n",
       "    }\n",
       "\n",
       "    .dataframe tbody tr th {\n",
       "        vertical-align: top;\n",
       "    }\n",
       "\n",
       "    .dataframe thead th {\n",
       "        text-align: right;\n",
       "    }\n",
       "</style>\n",
       "<table border=\"1\" class=\"dataframe\">\n",
       "  <thead>\n",
       "    <tr style=\"text-align: right;\">\n",
       "      <th></th>\n",
       "      <th>account</th>\n",
       "      <th>invoice_date</th>\n",
       "      <th>invoice_no</th>\n",
       "      <th>invoice_total</th>\n",
       "      <th>ship_date</th>\n",
       "      <th>tracking_no</th>\n",
       "      <th>sales_order_no</th>\n",
       "      <th>card_code</th>\n",
       "      <th>ref_1</th>\n",
       "      <th>ref_2</th>\n",
       "      <th>charge_type</th>\n",
       "      <th>final_charge</th>\n",
       "      <th>receiving_party</th>\n",
       "      <th>receiving_address</th>\n",
       "      <th>city</th>\n",
       "      <th>state</th>\n",
       "      <th>zip</th>\n",
       "    </tr>\n",
       "  </thead>\n",
       "  <tbody>\n",
       "    <tr>\n",
       "      <th>0</th>\n",
       "      <td>00009A56R1</td>\n",
       "      <td>2021-07-03</td>\n",
       "      <td>0000009A56R1271</td>\n",
       "      <td>22,933.26</td>\n",
       "      <td>2021-06-26</td>\n",
       "      <td>1Z9A56R16753703722</td>\n",
       "      <td>NaN</td>\n",
       "      <td></td>\n",
       "      <td>NaN</td>\n",
       "      <td>NaN</td>\n",
       "      <td>Worldwide Expedited</td>\n",
       "      <td>27.81</td>\n",
       "      <td>EQO TESTING AND CERTIFICATION</td>\n",
       "      <td>NO 23 LUXI ROAD</td>\n",
       "      <td>KUNSHAN</td>\n",
       "      <td>NaN</td>\n",
       "      <td>215,332.00</td>\n",
       "    </tr>\n",
       "    <tr>\n",
       "      <th>1</th>\n",
       "      <td>00009A56R1</td>\n",
       "      <td>2021-07-03</td>\n",
       "      <td>0000009A56R1271</td>\n",
       "      <td>22,933.26</td>\n",
       "      <td>2021-06-26</td>\n",
       "      <td>1Z9A56R16753703722</td>\n",
       "      <td>NaN</td>\n",
       "      <td></td>\n",
       "      <td>NaN</td>\n",
       "      <td>NaN</td>\n",
       "      <td>Peak Surcharge - Commercial</td>\n",
       "      <td>0.11</td>\n",
       "      <td>EQO TESTING AND CERTIFICATION</td>\n",
       "      <td>NO 23 LUXI ROAD</td>\n",
       "      <td>KUNSHAN</td>\n",
       "      <td>NaN</td>\n",
       "      <td>215,332.00</td>\n",
       "    </tr>\n",
       "  </tbody>\n",
       "</table>\n",
       "</div>"
      ],
      "text/plain": [
       "      account invoice_date       invoice_no  invoice_total   ship_date  \\\n",
       "0  00009A56R1   2021-07-03  0000009A56R1271      22,933.26  2021-06-26   \n",
       "1  00009A56R1   2021-07-03  0000009A56R1271      22,933.26  2021-06-26   \n",
       "\n",
       "          tracking_no  sales_order_no card_code ref_1 ref_2  \\\n",
       "0  1Z9A56R16753703722             NaN             NaN   NaN   \n",
       "1  1Z9A56R16753703722             NaN             NaN   NaN   \n",
       "\n",
       "                   charge_type  final_charge                receiving_party  \\\n",
       "0          Worldwide Expedited         27.81  EQO TESTING AND CERTIFICATION   \n",
       "1  Peak Surcharge - Commercial          0.11  EQO TESTING AND CERTIFICATION   \n",
       "\n",
       "  receiving_address     city state        zip  \n",
       "0   NO 23 LUXI ROAD  KUNSHAN   NaN 215,332.00  \n",
       "1   NO 23 LUXI ROAD  KUNSHAN   NaN 215,332.00  "
      ]
     },
     "execution_count": 10,
     "metadata": {},
     "output_type": "execute_result"
    }
   ],
   "source": [
    "#drops the second row which is a numbered row, not needed.  \n",
    "df2.drop(df2.index[0])\n",
    "df2.head(2)"
   ]
  },
  {
   "cell_type": "code",
   "execution_count": 11,
   "metadata": {},
   "outputs": [
    {
     "data": {
      "text/plain": [
       "account               object\n",
       "invoice_date          object\n",
       "invoice_no            object\n",
       "invoice_total        float64\n",
       "ship_date             object\n",
       "tracking_no           object\n",
       "sales_order_no       float64\n",
       "card_code             object\n",
       "ref_1                 object\n",
       "ref_2                 object\n",
       "charge_type           object\n",
       "final_charge         float64\n",
       "receiving_party       object\n",
       "receiving_address     object\n",
       "city                  object\n",
       "state                 object\n",
       "zip                  float64\n",
       "dtype: object"
      ]
     },
     "execution_count": 11,
     "metadata": {},
     "output_type": "execute_result"
    }
   ],
   "source": [
    "#check data types\n",
    "df2.dtypes"
   ]
  },
  {
   "cell_type": "code",
   "execution_count": 12,
   "metadata": {},
   "outputs": [],
   "source": [
    "#saves new dataframe excel doc. \n",
    "df2.to_excel(y, index = False)"
   ]
  },
  {
   "cell_type": "markdown",
   "metadata": {},
   "source": [
    "MERGE DATA FRAMES (UPS RAW DATA WITH ORDR AND LINE ITEM TABLES)"
   ]
  },
  {
   "cell_type": "code",
   "execution_count": 13,
   "metadata": {},
   "outputs": [],
   "source": [
    "#pull in ordr sheet\n",
    "df_ordr = pd.read_excel('ORDR for UPS analysis US.xlsx', sheet_name = 'ORDR_only')\n",
    "# df_ordr.head(2)"
   ]
  },
  {
   "cell_type": "code",
   "execution_count": 14,
   "metadata": {},
   "outputs": [],
   "source": [
    "#pull in ordr line items sheet \n",
    "df_lineitems = pd.read_excel('ORDR for UPS analysis US.xlsx', sheet_name = 'ORDR_line_items')\n",
    "# df_lineitems.head(2)"
   ]
  },
  {
   "cell_type": "code",
   "execution_count": 15,
   "metadata": {},
   "outputs": [],
   "source": [
    "#merge ORDR and UPS data dataframes\n",
    "df_merge = pd.merge(df2, df_ordr, on = ['sales_order_no'], how = 'left')"
   ]
  },
  {
   "cell_type": "code",
   "execution_count": 16,
   "metadata": {},
   "outputs": [],
   "source": [
    "# df_merge.head(2)"
   ]
  },
  {
   "cell_type": "code",
   "execution_count": 17,
   "metadata": {},
   "outputs": [],
   "source": [
    "#push the new DF to excel file\n",
    "\n",
    "df_merge.to_excel(z, index = False)"
   ]
  },
  {
   "cell_type": "markdown",
   "metadata": {},
   "source": [
    "UPS DATA  ANALYSIS"
   ]
  },
  {
   "cell_type": "code",
   "execution_count": 18,
   "metadata": {},
   "outputs": [],
   "source": [
    "#drop the rows where final charge = 0\n",
    "\n",
    "df_merge = df_merge[df_merge['final_charge'] != 0]"
   ]
  },
  {
   "cell_type": "code",
   "execution_count": 19,
   "metadata": {},
   "outputs": [
    {
     "name": "stdout",
     "output_type": "stream",
     "text": [
      "dataframe shape:  (3827, 22)\n",
      "unique tracking nos:  1137\n"
     ]
    }
   ],
   "source": [
    "# print the shape of df_merge and count unique tracking numbers (after 0 charges are removed, so all tracking \n",
    "# nos with charges)\n",
    " \n",
    "tracking_unique_total = df_merge.tracking_no.value_counts() \n",
    "print('dataframe shape: ' , df_merge.shape)\n",
    "print('unique tracking nos: ', tracking_unique_total.count())"
   ]
  },
  {
   "cell_type": "code",
   "execution_count": 20,
   "metadata": {
    "scrolled": true
   },
   "outputs": [
    {
     "name": "stdout",
     "output_type": "stream",
     "text": [
      "average charge overall:  5.99\n",
      "total charges:  22,933.26\n",
      "total packages:  1,137\n",
      "average cost per package:  20.17\n"
     ]
    }
   ],
   "source": [
    "#find the new mean without the null rows. \n",
    "#aka take sum final charge divide by # of unique tracking ==> cost per carton\n",
    "\n",
    "print('average charge overall: ', format(df_merge.final_charge.mean(), '.2f'))\n",
    "print('total charges: ', format(df_merge.final_charge.sum(), ',.2f'))\n",
    "print('total packages: ', format(tracking_unique_total.count(), ','))\n",
    "print('average cost per package: ', format(df_merge.final_charge.sum()/tracking_unique_total.count(), '.2f'))\n"
   ]
  },
  {
   "cell_type": "markdown",
   "metadata": {},
   "source": [
    "UPS INVOICE SUMMARY"
   ]
  },
  {
   "cell_type": "code",
   "execution_count": 21,
   "metadata": {},
   "outputs": [
    {
     "name": "stdout",
     "output_type": "stream",
     "text": [
      "total charges:  22,933.26\n",
      "total packages:  1,137\n",
      "average cost per package:  20.17\n"
     ]
    }
   ],
   "source": [
    "#sum final charge by invoice number and date\n",
    "print('total charges: ', format(df_merge.final_charge.sum(), ',.2f'))\n",
    "print('total packages: ', format(tracking_unique_total.count(), ','))\n",
    "print('average cost per package: ', format(df_merge.final_charge.sum()/tracking_unique_total.count(), '.2f'))\n"
   ]
  },
  {
   "cell_type": "code",
   "execution_count": 22,
   "metadata": {},
   "outputs": [],
   "source": [
    "#dataframe groupby object\n",
    "code_grp = df_merge.groupby(['CardCode'])\n",
    "\n",
    "#create dataframe of the code group = DIORET\n",
    "df_dioret = code_grp.get_group('DIORET')"
   ]
  },
  {
   "cell_type": "code",
   "execution_count": 31,
   "metadata": {},
   "outputs": [
    {
     "name": "stdout",
     "output_type": "stream",
     "text": [
      "invoice data:\n",
      "                              final_charge\n",
      "invoice_date invoice_no                   \n",
      "2021-07-03   0000009A56R1271     22,933.26\n",
      "final_charge   22,933.26\n",
      "dtype: float64\n",
      "online sales shipping charges total:  19,752.65\n"
     ]
    }
   ],
   "source": [
    "sum_finalcharge = df_merge[['final_charge']].sum()\n",
    "invoice_by_date = df_merge.groupby(['invoice_date', 'invoice_no'])[['final_charge']].sum()\n",
    "dioret_total_sum = df_dioret['final_charge'].sum()\n",
    "\n",
    "print('invoice data:')\n",
    "print(invoice_by_date)\n",
    "print(sum_finalcharge)\n",
    "print(\"online sales shipping charges total: \" , format(dioret_total_sum, ',.2f'))\n"
   ]
  },
  {
   "cell_type": "code",
   "execution_count": 24,
   "metadata": {},
   "outputs": [],
   "source": [
    "# df_merge['CardCode'].value_counts()"
   ]
  },
  {
   "cell_type": "markdown",
   "metadata": {},
   "source": [
    "DIONO ONLINE SALES FREIGHT SUMMARY"
   ]
  },
  {
   "cell_type": "code",
   "execution_count": 25,
   "metadata": {},
   "outputs": [
    {
     "name": "stdout",
     "output_type": "stream",
     "text": [
      "total DIORET tracking no: 969\n",
      "total DIORET sum final charge: 19,752.65\n",
      "average cost DIORET shipment:  20.38\n"
     ]
    }
   ],
   "source": [
    "#analysis on the DIORET dataframe\n",
    "\n",
    "dioret_total_tracking = df_dioret['tracking_no'].value_counts().count()\n",
    "dioret_total_sum = df_dioret['final_charge'].sum()\n",
    "print('total DIORET tracking no:', format(dioret_total_tracking, ','))\n",
    "print('total DIORET sum final charge:', format(dioret_total_sum, ',.2f'))\n",
    "print('average cost DIORET shipment: ', format(dioret_total_sum/dioret_total_tracking, '.2f'))"
   ]
  },
  {
   "cell_type": "code",
   "execution_count": 26,
   "metadata": {},
   "outputs": [
    {
     "name": "stdout",
     "output_type": "stream",
     "text": [
      "SUM OF CHARGES BY CUSTOMER\n",
      "                                                    final_charge\n",
      "CardCode     CardName                                           \n",
      "AMAZON       Amazon                                        45.90\n",
      "BRIBAB       Bringing Up Baby                               8.94\n",
      "CAMB01       Cambria Recall 2020 01                       128.09\n",
      "COOSER-DS    Coordinated Claim Services drop ship          16.89\n",
      "DIORET       B2C Credit Card                           19,752.65\n",
      "FACBOK       Facebook                                      14.96\n",
      "KIDTEC       Kidmoto Technologies LLC                     524.08\n",
      "MAREBAY      Ebay Market                                   36.10\n",
      "MARWAL       Walmart Market Place                         892.11\n",
      "MEGBAB-DS    Mega Babies Drop Ship                        151.23\n",
      "MERDIS       Mercury Distributing Dba Child Source        490.25\n",
      "MODNAT       Modern Natural Baby     (BRIXY)               39.22\n",
      "PREALT       Prevention Alternative                        14.03\n",
      "REPLACE      Replacement                                  299.19\n",
      "RETAIL-OTHER B2C Phone                                    214.36\n",
      "SAMPLE       Sample                                        88.49\n"
     ]
    }
   ],
   "source": [
    "#sums final charge by customer\n",
    "print('SUM OF CHARGES BY CUSTOMER')\n",
    "print(df_merge.groupby(['CardCode','CardName'])[['final_charge']].sum())"
   ]
  },
  {
   "cell_type": "markdown",
   "metadata": {},
   "source": [
    "MERGE RDR1 LINE ITEM DETAIL WITH UPS"
   ]
  },
  {
   "cell_type": "code",
   "execution_count": 27,
   "metadata": {},
   "outputs": [],
   "source": [
    "#merge line item table with UPS data. drop NA value rows\n",
    "\n",
    "df_detail = pd.merge(df_lineitems, df2, on = ['sales_order_no'], how = 'left')\n",
    "df_detail = df_detail.dropna()\n",
    "# df_detail.head(2)"
   ]
  },
  {
   "cell_type": "code",
   "execution_count": 28,
   "metadata": {},
   "outputs": [],
   "source": [
    "#push line item merged table to excel doc\n",
    "df_detail.to_excel(w, index = False )"
   ]
  }
 ],
 "metadata": {
  "hide_input": true,
  "kernelspec": {
   "display_name": "Python 3",
   "language": "python",
   "name": "python3"
  },
  "language_info": {
   "codemirror_mode": {
    "name": "ipython",
    "version": 3
   },
   "file_extension": ".py",
   "mimetype": "text/x-python",
   "name": "python",
   "nbconvert_exporter": "python",
   "pygments_lexer": "ipython3",
   "version": "3.7.6"
  },
  "varInspector": {
   "cols": {
    "lenName": 16,
    "lenType": 16,
    "lenVar": 40
   },
   "kernels_config": {
    "python": {
     "delete_cmd_postfix": "",
     "delete_cmd_prefix": "del ",
     "library": "var_list.py",
     "varRefreshCmd": "print(var_dic_list())"
    },
    "r": {
     "delete_cmd_postfix": ") ",
     "delete_cmd_prefix": "rm(",
     "library": "var_list.r",
     "varRefreshCmd": "cat(var_dic_list()) "
    }
   },
   "types_to_exclude": [
    "module",
    "function",
    "builtin_function_or_method",
    "instance",
    "_Feature"
   ],
   "window_display": false
  }
 },
 "nbformat": 4,
 "nbformat_minor": 4
}
